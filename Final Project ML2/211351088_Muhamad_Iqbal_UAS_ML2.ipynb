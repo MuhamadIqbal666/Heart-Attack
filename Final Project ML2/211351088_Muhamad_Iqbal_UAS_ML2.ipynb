{
  "nbformat": 4,
  "nbformat_minor": 0,
  "metadata": {
    "colab": {
      "provenance": []
    },
    "kernelspec": {
      "name": "python3",
      "display_name": "Python 3"
    },
    "language_info": {
      "name": "python"
    }
  },
  "cells": [
    {
      "cell_type": "markdown",
      "source": [
        "**Nama : Muhamad Iqbal** <br>\n",
        "**NIM : 211351088** <br>\n",
        "**Kelas : IF Pagi A**"
      ],
      "metadata": {
        "id": "yYzmSdKauISQ"
      }
    },
    {
      "cell_type": "markdown",
      "source": [
        "# Import Dataset"
      ],
      "metadata": {
        "id": "G5fB7Ad7r6Im"
      }
    },
    {
      "cell_type": "code",
      "execution_count": null,
      "metadata": {
        "colab": {
          "base_uri": "https://localhost:8080/",
          "height": 89
        },
        "id": "gsrHI6Oe5wrc",
        "outputId": "c0611be0-3900-49ed-bc87-5a1e52e20480"
      },
      "outputs": [
        {
          "output_type": "display_data",
          "data": {
            "text/plain": [
              "<IPython.core.display.HTML object>"
            ],
            "text/html": [
              "\n",
              "     <input type=\"file\" id=\"files-7f2dcbf0-1ec2-4c5e-8416-b8b188a337ff\" name=\"files[]\" multiple disabled\n",
              "        style=\"border:none\" />\n",
              "     <output id=\"result-7f2dcbf0-1ec2-4c5e-8416-b8b188a337ff\">\n",
              "      Upload widget is only available when the cell has been executed in the\n",
              "      current browser session. Please rerun this cell to enable.\n",
              "      </output>\n",
              "      <script>// Copyright 2017 Google LLC\n",
              "//\n",
              "// Licensed under the Apache License, Version 2.0 (the \"License\");\n",
              "// you may not use this file except in compliance with the License.\n",
              "// You may obtain a copy of the License at\n",
              "//\n",
              "//      http://www.apache.org/licenses/LICENSE-2.0\n",
              "//\n",
              "// Unless required by applicable law or agreed to in writing, software\n",
              "// distributed under the License is distributed on an \"AS IS\" BASIS,\n",
              "// WITHOUT WARRANTIES OR CONDITIONS OF ANY KIND, either express or implied.\n",
              "// See the License for the specific language governing permissions and\n",
              "// limitations under the License.\n",
              "\n",
              "/**\n",
              " * @fileoverview Helpers for google.colab Python module.\n",
              " */\n",
              "(function(scope) {\n",
              "function span(text, styleAttributes = {}) {\n",
              "  const element = document.createElement('span');\n",
              "  element.textContent = text;\n",
              "  for (const key of Object.keys(styleAttributes)) {\n",
              "    element.style[key] = styleAttributes[key];\n",
              "  }\n",
              "  return element;\n",
              "}\n",
              "\n",
              "// Max number of bytes which will be uploaded at a time.\n",
              "const MAX_PAYLOAD_SIZE = 100 * 1024;\n",
              "\n",
              "function _uploadFiles(inputId, outputId) {\n",
              "  const steps = uploadFilesStep(inputId, outputId);\n",
              "  const outputElement = document.getElementById(outputId);\n",
              "  // Cache steps on the outputElement to make it available for the next call\n",
              "  // to uploadFilesContinue from Python.\n",
              "  outputElement.steps = steps;\n",
              "\n",
              "  return _uploadFilesContinue(outputId);\n",
              "}\n",
              "\n",
              "// This is roughly an async generator (not supported in the browser yet),\n",
              "// where there are multiple asynchronous steps and the Python side is going\n",
              "// to poll for completion of each step.\n",
              "// This uses a Promise to block the python side on completion of each step,\n",
              "// then passes the result of the previous step as the input to the next step.\n",
              "function _uploadFilesContinue(outputId) {\n",
              "  const outputElement = document.getElementById(outputId);\n",
              "  const steps = outputElement.steps;\n",
              "\n",
              "  const next = steps.next(outputElement.lastPromiseValue);\n",
              "  return Promise.resolve(next.value.promise).then((value) => {\n",
              "    // Cache the last promise value to make it available to the next\n",
              "    // step of the generator.\n",
              "    outputElement.lastPromiseValue = value;\n",
              "    return next.value.response;\n",
              "  });\n",
              "}\n",
              "\n",
              "/**\n",
              " * Generator function which is called between each async step of the upload\n",
              " * process.\n",
              " * @param {string} inputId Element ID of the input file picker element.\n",
              " * @param {string} outputId Element ID of the output display.\n",
              " * @return {!Iterable<!Object>} Iterable of next steps.\n",
              " */\n",
              "function* uploadFilesStep(inputId, outputId) {\n",
              "  const inputElement = document.getElementById(inputId);\n",
              "  inputElement.disabled = false;\n",
              "\n",
              "  const outputElement = document.getElementById(outputId);\n",
              "  outputElement.innerHTML = '';\n",
              "\n",
              "  const pickedPromise = new Promise((resolve) => {\n",
              "    inputElement.addEventListener('change', (e) => {\n",
              "      resolve(e.target.files);\n",
              "    });\n",
              "  });\n",
              "\n",
              "  const cancel = document.createElement('button');\n",
              "  inputElement.parentElement.appendChild(cancel);\n",
              "  cancel.textContent = 'Cancel upload';\n",
              "  const cancelPromise = new Promise((resolve) => {\n",
              "    cancel.onclick = () => {\n",
              "      resolve(null);\n",
              "    };\n",
              "  });\n",
              "\n",
              "  // Wait for the user to pick the files.\n",
              "  const files = yield {\n",
              "    promise: Promise.race([pickedPromise, cancelPromise]),\n",
              "    response: {\n",
              "      action: 'starting',\n",
              "    }\n",
              "  };\n",
              "\n",
              "  cancel.remove();\n",
              "\n",
              "  // Disable the input element since further picks are not allowed.\n",
              "  inputElement.disabled = true;\n",
              "\n",
              "  if (!files) {\n",
              "    return {\n",
              "      response: {\n",
              "        action: 'complete',\n",
              "      }\n",
              "    };\n",
              "  }\n",
              "\n",
              "  for (const file of files) {\n",
              "    const li = document.createElement('li');\n",
              "    li.append(span(file.name, {fontWeight: 'bold'}));\n",
              "    li.append(span(\n",
              "        `(${file.type || 'n/a'}) - ${file.size} bytes, ` +\n",
              "        `last modified: ${\n",
              "            file.lastModifiedDate ? file.lastModifiedDate.toLocaleDateString() :\n",
              "                                    'n/a'} - `));\n",
              "    const percent = span('0% done');\n",
              "    li.appendChild(percent);\n",
              "\n",
              "    outputElement.appendChild(li);\n",
              "\n",
              "    const fileDataPromise = new Promise((resolve) => {\n",
              "      const reader = new FileReader();\n",
              "      reader.onload = (e) => {\n",
              "        resolve(e.target.result);\n",
              "      };\n",
              "      reader.readAsArrayBuffer(file);\n",
              "    });\n",
              "    // Wait for the data to be ready.\n",
              "    let fileData = yield {\n",
              "      promise: fileDataPromise,\n",
              "      response: {\n",
              "        action: 'continue',\n",
              "      }\n",
              "    };\n",
              "\n",
              "    // Use a chunked sending to avoid message size limits. See b/62115660.\n",
              "    let position = 0;\n",
              "    do {\n",
              "      const length = Math.min(fileData.byteLength - position, MAX_PAYLOAD_SIZE);\n",
              "      const chunk = new Uint8Array(fileData, position, length);\n",
              "      position += length;\n",
              "\n",
              "      const base64 = btoa(String.fromCharCode.apply(null, chunk));\n",
              "      yield {\n",
              "        response: {\n",
              "          action: 'append',\n",
              "          file: file.name,\n",
              "          data: base64,\n",
              "        },\n",
              "      };\n",
              "\n",
              "      let percentDone = fileData.byteLength === 0 ?\n",
              "          100 :\n",
              "          Math.round((position / fileData.byteLength) * 100);\n",
              "      percent.textContent = `${percentDone}% done`;\n",
              "\n",
              "    } while (position < fileData.byteLength);\n",
              "  }\n",
              "\n",
              "  // All done.\n",
              "  yield {\n",
              "    response: {\n",
              "      action: 'complete',\n",
              "    }\n",
              "  };\n",
              "}\n",
              "\n",
              "scope.google = scope.google || {};\n",
              "scope.google.colab = scope.google.colab || {};\n",
              "scope.google.colab._files = {\n",
              "  _uploadFiles,\n",
              "  _uploadFilesContinue,\n",
              "};\n",
              "})(self);\n",
              "</script> "
            ]
          },
          "metadata": {}
        },
        {
          "output_type": "stream",
          "name": "stdout",
          "text": [
            "Saving kaggle.json to kaggle.json\n"
          ]
        },
        {
          "output_type": "execute_result",
          "data": {
            "text/plain": [
              "{'kaggle.json': b'{\"username\":\"muhamadiqbalpagib\",\"key\":\"fb91eb1aba701c289e645a83023e0378\"}'}"
            ]
          },
          "metadata": {},
          "execution_count": 2
        }
      ],
      "source": [
        "from google.colab import files\n",
        "files.upload()"
      ]
    },
    {
      "cell_type": "code",
      "source": [
        "!mkdir -p ~/.kaggle\n",
        "!cp kaggle.json ~/.kaggle/\n",
        "!chmod 600 ~/.kaggle/kaggle.json\n",
        "!ls ~/.kaggle"
      ],
      "metadata": {
        "colab": {
          "base_uri": "https://localhost:8080/"
        },
        "id": "frUtlCmy7ew9",
        "outputId": "521e87f0-1c78-4453-b4b1-990948c7d3b9"
      },
      "execution_count": null,
      "outputs": [
        {
          "output_type": "stream",
          "name": "stdout",
          "text": [
            "kaggle.json\n"
          ]
        }
      ]
    },
    {
      "cell_type": "code",
      "source": [
        "!kaggle datasets download -d bharath011/heart-disease-classification-dataset"
      ],
      "metadata": {
        "colab": {
          "base_uri": "https://localhost:8080/"
        },
        "id": "IVQZ0miY7wPw",
        "outputId": "9da5795c-b785-4ce4-d933-6587851307b2"
      },
      "execution_count": null,
      "outputs": [
        {
          "output_type": "stream",
          "name": "stdout",
          "text": [
            "Dataset URL: https://www.kaggle.com/datasets/bharath011/heart-disease-classification-dataset\n",
            "License(s): Attribution 4.0 International (CC BY 4.0)\n",
            "Downloading heart-disease-classification-dataset.zip to /content\n",
            "  0% 0.00/15.8k [00:00<?, ?B/s]\n",
            "100% 15.8k/15.8k [00:00<00:00, 26.7MB/s]\n"
          ]
        }
      ]
    },
    {
      "cell_type": "code",
      "source": [
        "!mkdir heart-disease-classification-dataset\n",
        "!unzip heart-disease-classification-dataset.zip -d heart-disease-classification-dataset\n",
        "!ls heart-disease-classification-dataset"
      ],
      "metadata": {
        "colab": {
          "base_uri": "https://localhost:8080/"
        },
        "id": "szNP8_Tm76Uk",
        "outputId": "3702a171-67cb-488b-b3e7-6998788811a5"
      },
      "execution_count": null,
      "outputs": [
        {
          "output_type": "stream",
          "name": "stdout",
          "text": [
            "Archive:  heart-disease-classification-dataset.zip\n",
            "  inflating: heart-disease-classification-dataset/Heart Attack.csv  \n",
            "'Heart Attack.csv'\n"
          ]
        }
      ]
    },
    {
      "cell_type": "markdown",
      "source": [
        "# Import Library"
      ],
      "metadata": {
        "id": "gHEiKEyDr_1I"
      }
    },
    {
      "cell_type": "code",
      "source": [
        "import pandas as pd\n",
        "import numpy as np\n",
        "import matplotlib.pyplot as plt\n",
        "import seaborn as sns\n",
        "import tensorflow as tf\n",
        "\n",
        "from sklearn import preprocessing\n",
        "from sklearn.model_selection import train_test_split\n",
        "from tensorflow.keras.layers import Dense, Activation\n",
        "from tensorflow.keras import Sequential\n",
        "from tensorflow.keras.optimizers import Adam\n",
        "from tensorflow.keras.utils import plot_model"
      ],
      "metadata": {
        "id": "Ylw_rHoq8GIs"
      },
      "execution_count": null,
      "outputs": []
    },
    {
      "cell_type": "markdown",
      "source": [
        "# Data Discovery"
      ],
      "metadata": {
        "id": "0HdTTmEAsFsF"
      }
    },
    {
      "cell_type": "code",
      "source": [
        "df = pd.read_csv('heart-disease-classification-dataset/Heart Attack.csv')"
      ],
      "metadata": {
        "id": "Ot_Gxv-F8J5k"
      },
      "execution_count": null,
      "outputs": []
    },
    {
      "cell_type": "code",
      "source": [
        "df.info()"
      ],
      "metadata": {
        "colab": {
          "base_uri": "https://localhost:8080/"
        },
        "id": "gXF3QZZe8QPw",
        "outputId": "71fb24c4-cc4e-4479-a956-f8a43b243d11"
      },
      "execution_count": null,
      "outputs": [
        {
          "output_type": "stream",
          "name": "stdout",
          "text": [
            "<class 'pandas.core.frame.DataFrame'>\n",
            "RangeIndex: 1319 entries, 0 to 1318\n",
            "Data columns (total 9 columns):\n",
            " #   Column         Non-Null Count  Dtype  \n",
            "---  ------         --------------  -----  \n",
            " 0   age            1319 non-null   int64  \n",
            " 1   gender         1319 non-null   int64  \n",
            " 2   impluse        1319 non-null   int64  \n",
            " 3   pressurehight  1319 non-null   int64  \n",
            " 4   pressurelow    1319 non-null   int64  \n",
            " 5   glucose        1319 non-null   float64\n",
            " 6   kcm            1319 non-null   float64\n",
            " 7   troponin       1319 non-null   float64\n",
            " 8   class          1319 non-null   object \n",
            "dtypes: float64(3), int64(5), object(1)\n",
            "memory usage: 92.9+ KB\n"
          ]
        }
      ]
    },
    {
      "cell_type": "code",
      "source": [
        "df.isnull().sum()"
      ],
      "metadata": {
        "colab": {
          "base_uri": "https://localhost:8080/"
        },
        "id": "SwaeBV5e8Vcu",
        "outputId": "04bcec71-4739-4680-de8f-9de13cd49997"
      },
      "execution_count": null,
      "outputs": [
        {
          "output_type": "execute_result",
          "data": {
            "text/plain": [
              "age              0\n",
              "gender           0\n",
              "impluse          0\n",
              "pressurehight    0\n",
              "pressurelow      0\n",
              "glucose          0\n",
              "kcm              0\n",
              "troponin         0\n",
              "class            0\n",
              "dtype: int64"
            ]
          },
          "metadata": {},
          "execution_count": 52
        }
      ]
    },
    {
      "cell_type": "code",
      "source": [
        "df.head()"
      ],
      "metadata": {
        "colab": {
          "base_uri": "https://localhost:8080/",
          "height": 206
        },
        "id": "67ZbhK8V8azn",
        "outputId": "3204d19d-f625-4aa7-80b3-f21fc278859d"
      },
      "execution_count": null,
      "outputs": [
        {
          "output_type": "execute_result",
          "data": {
            "text/plain": [
              "   age  gender  impluse  pressurehight  pressurelow  glucose    kcm  troponin  \\\n",
              "0   64       1       66            160           83    160.0   1.80     0.012   \n",
              "1   21       1       94             98           46    296.0   6.75     1.060   \n",
              "2   55       1       64            160           77    270.0   1.99     0.003   \n",
              "3   64       1       70            120           55    270.0  13.87     0.122   \n",
              "4   55       1       64            112           65    300.0   1.08     0.003   \n",
              "\n",
              "      class  \n",
              "0  negative  \n",
              "1  positive  \n",
              "2  negative  \n",
              "3  positive  \n",
              "4  negative  "
            ],
            "text/html": [
              "\n",
              "  <div id=\"df-f224676e-7a31-41c4-ace8-b7d38cd8c8a1\" class=\"colab-df-container\">\n",
              "    <div>\n",
              "<style scoped>\n",
              "    .dataframe tbody tr th:only-of-type {\n",
              "        vertical-align: middle;\n",
              "    }\n",
              "\n",
              "    .dataframe tbody tr th {\n",
              "        vertical-align: top;\n",
              "    }\n",
              "\n",
              "    .dataframe thead th {\n",
              "        text-align: right;\n",
              "    }\n",
              "</style>\n",
              "<table border=\"1\" class=\"dataframe\">\n",
              "  <thead>\n",
              "    <tr style=\"text-align: right;\">\n",
              "      <th></th>\n",
              "      <th>age</th>\n",
              "      <th>gender</th>\n",
              "      <th>impluse</th>\n",
              "      <th>pressurehight</th>\n",
              "      <th>pressurelow</th>\n",
              "      <th>glucose</th>\n",
              "      <th>kcm</th>\n",
              "      <th>troponin</th>\n",
              "      <th>class</th>\n",
              "    </tr>\n",
              "  </thead>\n",
              "  <tbody>\n",
              "    <tr>\n",
              "      <th>0</th>\n",
              "      <td>64</td>\n",
              "      <td>1</td>\n",
              "      <td>66</td>\n",
              "      <td>160</td>\n",
              "      <td>83</td>\n",
              "      <td>160.0</td>\n",
              "      <td>1.80</td>\n",
              "      <td>0.012</td>\n",
              "      <td>negative</td>\n",
              "    </tr>\n",
              "    <tr>\n",
              "      <th>1</th>\n",
              "      <td>21</td>\n",
              "      <td>1</td>\n",
              "      <td>94</td>\n",
              "      <td>98</td>\n",
              "      <td>46</td>\n",
              "      <td>296.0</td>\n",
              "      <td>6.75</td>\n",
              "      <td>1.060</td>\n",
              "      <td>positive</td>\n",
              "    </tr>\n",
              "    <tr>\n",
              "      <th>2</th>\n",
              "      <td>55</td>\n",
              "      <td>1</td>\n",
              "      <td>64</td>\n",
              "      <td>160</td>\n",
              "      <td>77</td>\n",
              "      <td>270.0</td>\n",
              "      <td>1.99</td>\n",
              "      <td>0.003</td>\n",
              "      <td>negative</td>\n",
              "    </tr>\n",
              "    <tr>\n",
              "      <th>3</th>\n",
              "      <td>64</td>\n",
              "      <td>1</td>\n",
              "      <td>70</td>\n",
              "      <td>120</td>\n",
              "      <td>55</td>\n",
              "      <td>270.0</td>\n",
              "      <td>13.87</td>\n",
              "      <td>0.122</td>\n",
              "      <td>positive</td>\n",
              "    </tr>\n",
              "    <tr>\n",
              "      <th>4</th>\n",
              "      <td>55</td>\n",
              "      <td>1</td>\n",
              "      <td>64</td>\n",
              "      <td>112</td>\n",
              "      <td>65</td>\n",
              "      <td>300.0</td>\n",
              "      <td>1.08</td>\n",
              "      <td>0.003</td>\n",
              "      <td>negative</td>\n",
              "    </tr>\n",
              "  </tbody>\n",
              "</table>\n",
              "</div>\n",
              "    <div class=\"colab-df-buttons\">\n",
              "\n",
              "  <div class=\"colab-df-container\">\n",
              "    <button class=\"colab-df-convert\" onclick=\"convertToInteractive('df-f224676e-7a31-41c4-ace8-b7d38cd8c8a1')\"\n",
              "            title=\"Convert this dataframe to an interactive table.\"\n",
              "            style=\"display:none;\">\n",
              "\n",
              "  <svg xmlns=\"http://www.w3.org/2000/svg\" height=\"24px\" viewBox=\"0 -960 960 960\">\n",
              "    <path d=\"M120-120v-720h720v720H120Zm60-500h600v-160H180v160Zm220 220h160v-160H400v160Zm0 220h160v-160H400v160ZM180-400h160v-160H180v160Zm440 0h160v-160H620v160ZM180-180h160v-160H180v160Zm440 0h160v-160H620v160Z\"/>\n",
              "  </svg>\n",
              "    </button>\n",
              "\n",
              "  <style>\n",
              "    .colab-df-container {\n",
              "      display:flex;\n",
              "      gap: 12px;\n",
              "    }\n",
              "\n",
              "    .colab-df-convert {\n",
              "      background-color: #E8F0FE;\n",
              "      border: none;\n",
              "      border-radius: 50%;\n",
              "      cursor: pointer;\n",
              "      display: none;\n",
              "      fill: #1967D2;\n",
              "      height: 32px;\n",
              "      padding: 0 0 0 0;\n",
              "      width: 32px;\n",
              "    }\n",
              "\n",
              "    .colab-df-convert:hover {\n",
              "      background-color: #E2EBFA;\n",
              "      box-shadow: 0px 1px 2px rgba(60, 64, 67, 0.3), 0px 1px 3px 1px rgba(60, 64, 67, 0.15);\n",
              "      fill: #174EA6;\n",
              "    }\n",
              "\n",
              "    .colab-df-buttons div {\n",
              "      margin-bottom: 4px;\n",
              "    }\n",
              "\n",
              "    [theme=dark] .colab-df-convert {\n",
              "      background-color: #3B4455;\n",
              "      fill: #D2E3FC;\n",
              "    }\n",
              "\n",
              "    [theme=dark] .colab-df-convert:hover {\n",
              "      background-color: #434B5C;\n",
              "      box-shadow: 0px 1px 3px 1px rgba(0, 0, 0, 0.15);\n",
              "      filter: drop-shadow(0px 1px 2px rgba(0, 0, 0, 0.3));\n",
              "      fill: #FFFFFF;\n",
              "    }\n",
              "  </style>\n",
              "\n",
              "    <script>\n",
              "      const buttonEl =\n",
              "        document.querySelector('#df-f224676e-7a31-41c4-ace8-b7d38cd8c8a1 button.colab-df-convert');\n",
              "      buttonEl.style.display =\n",
              "        google.colab.kernel.accessAllowed ? 'block' : 'none';\n",
              "\n",
              "      async function convertToInteractive(key) {\n",
              "        const element = document.querySelector('#df-f224676e-7a31-41c4-ace8-b7d38cd8c8a1');\n",
              "        const dataTable =\n",
              "          await google.colab.kernel.invokeFunction('convertToInteractive',\n",
              "                                                    [key], {});\n",
              "        if (!dataTable) return;\n",
              "\n",
              "        const docLinkHtml = 'Like what you see? Visit the ' +\n",
              "          '<a target=\"_blank\" href=https://colab.research.google.com/notebooks/data_table.ipynb>data table notebook</a>'\n",
              "          + ' to learn more about interactive tables.';\n",
              "        element.innerHTML = '';\n",
              "        dataTable['output_type'] = 'display_data';\n",
              "        await google.colab.output.renderOutput(dataTable, element);\n",
              "        const docLink = document.createElement('div');\n",
              "        docLink.innerHTML = docLinkHtml;\n",
              "        element.appendChild(docLink);\n",
              "      }\n",
              "    </script>\n",
              "  </div>\n",
              "\n",
              "\n",
              "<div id=\"df-c0d09812-fd06-4b56-93a2-3c59b31c9d49\">\n",
              "  <button class=\"colab-df-quickchart\" onclick=\"quickchart('df-c0d09812-fd06-4b56-93a2-3c59b31c9d49')\"\n",
              "            title=\"Suggest charts\"\n",
              "            style=\"display:none;\">\n",
              "\n",
              "<svg xmlns=\"http://www.w3.org/2000/svg\" height=\"24px\"viewBox=\"0 0 24 24\"\n",
              "     width=\"24px\">\n",
              "    <g>\n",
              "        <path d=\"M19 3H5c-1.1 0-2 .9-2 2v14c0 1.1.9 2 2 2h14c1.1 0 2-.9 2-2V5c0-1.1-.9-2-2-2zM9 17H7v-7h2v7zm4 0h-2V7h2v10zm4 0h-2v-4h2v4z\"/>\n",
              "    </g>\n",
              "</svg>\n",
              "  </button>\n",
              "\n",
              "<style>\n",
              "  .colab-df-quickchart {\n",
              "      --bg-color: #E8F0FE;\n",
              "      --fill-color: #1967D2;\n",
              "      --hover-bg-color: #E2EBFA;\n",
              "      --hover-fill-color: #174EA6;\n",
              "      --disabled-fill-color: #AAA;\n",
              "      --disabled-bg-color: #DDD;\n",
              "  }\n",
              "\n",
              "  [theme=dark] .colab-df-quickchart {\n",
              "      --bg-color: #3B4455;\n",
              "      --fill-color: #D2E3FC;\n",
              "      --hover-bg-color: #434B5C;\n",
              "      --hover-fill-color: #FFFFFF;\n",
              "      --disabled-bg-color: #3B4455;\n",
              "      --disabled-fill-color: #666;\n",
              "  }\n",
              "\n",
              "  .colab-df-quickchart {\n",
              "    background-color: var(--bg-color);\n",
              "    border: none;\n",
              "    border-radius: 50%;\n",
              "    cursor: pointer;\n",
              "    display: none;\n",
              "    fill: var(--fill-color);\n",
              "    height: 32px;\n",
              "    padding: 0;\n",
              "    width: 32px;\n",
              "  }\n",
              "\n",
              "  .colab-df-quickchart:hover {\n",
              "    background-color: var(--hover-bg-color);\n",
              "    box-shadow: 0 1px 2px rgba(60, 64, 67, 0.3), 0 1px 3px 1px rgba(60, 64, 67, 0.15);\n",
              "    fill: var(--button-hover-fill-color);\n",
              "  }\n",
              "\n",
              "  .colab-df-quickchart-complete:disabled,\n",
              "  .colab-df-quickchart-complete:disabled:hover {\n",
              "    background-color: var(--disabled-bg-color);\n",
              "    fill: var(--disabled-fill-color);\n",
              "    box-shadow: none;\n",
              "  }\n",
              "\n",
              "  .colab-df-spinner {\n",
              "    border: 2px solid var(--fill-color);\n",
              "    border-color: transparent;\n",
              "    border-bottom-color: var(--fill-color);\n",
              "    animation:\n",
              "      spin 1s steps(1) infinite;\n",
              "  }\n",
              "\n",
              "  @keyframes spin {\n",
              "    0% {\n",
              "      border-color: transparent;\n",
              "      border-bottom-color: var(--fill-color);\n",
              "      border-left-color: var(--fill-color);\n",
              "    }\n",
              "    20% {\n",
              "      border-color: transparent;\n",
              "      border-left-color: var(--fill-color);\n",
              "      border-top-color: var(--fill-color);\n",
              "    }\n",
              "    30% {\n",
              "      border-color: transparent;\n",
              "      border-left-color: var(--fill-color);\n",
              "      border-top-color: var(--fill-color);\n",
              "      border-right-color: var(--fill-color);\n",
              "    }\n",
              "    40% {\n",
              "      border-color: transparent;\n",
              "      border-right-color: var(--fill-color);\n",
              "      border-top-color: var(--fill-color);\n",
              "    }\n",
              "    60% {\n",
              "      border-color: transparent;\n",
              "      border-right-color: var(--fill-color);\n",
              "    }\n",
              "    80% {\n",
              "      border-color: transparent;\n",
              "      border-right-color: var(--fill-color);\n",
              "      border-bottom-color: var(--fill-color);\n",
              "    }\n",
              "    90% {\n",
              "      border-color: transparent;\n",
              "      border-bottom-color: var(--fill-color);\n",
              "    }\n",
              "  }\n",
              "</style>\n",
              "\n",
              "  <script>\n",
              "    async function quickchart(key) {\n",
              "      const quickchartButtonEl =\n",
              "        document.querySelector('#' + key + ' button');\n",
              "      quickchartButtonEl.disabled = true;  // To prevent multiple clicks.\n",
              "      quickchartButtonEl.classList.add('colab-df-spinner');\n",
              "      try {\n",
              "        const charts = await google.colab.kernel.invokeFunction(\n",
              "            'suggestCharts', [key], {});\n",
              "      } catch (error) {\n",
              "        console.error('Error during call to suggestCharts:', error);\n",
              "      }\n",
              "      quickchartButtonEl.classList.remove('colab-df-spinner');\n",
              "      quickchartButtonEl.classList.add('colab-df-quickchart-complete');\n",
              "    }\n",
              "    (() => {\n",
              "      let quickchartButtonEl =\n",
              "        document.querySelector('#df-c0d09812-fd06-4b56-93a2-3c59b31c9d49 button');\n",
              "      quickchartButtonEl.style.display =\n",
              "        google.colab.kernel.accessAllowed ? 'block' : 'none';\n",
              "    })();\n",
              "  </script>\n",
              "</div>\n",
              "\n",
              "    </div>\n",
              "  </div>\n"
            ],
            "application/vnd.google.colaboratory.intrinsic+json": {
              "type": "dataframe",
              "variable_name": "df",
              "summary": "{\n  \"name\": \"df\",\n  \"rows\": 1319,\n  \"fields\": [\n    {\n      \"column\": \"age\",\n      \"properties\": {\n        \"dtype\": \"number\",\n        \"std\": 13,\n        \"min\": 14,\n        \"max\": 103,\n        \"num_unique_values\": 75,\n        \"samples\": [\n          32,\n          81,\n          61\n        ],\n        \"semantic_type\": \"\",\n        \"description\": \"\"\n      }\n    },\n    {\n      \"column\": \"gender\",\n      \"properties\": {\n        \"dtype\": \"number\",\n        \"std\": 0,\n        \"min\": 0,\n        \"max\": 1,\n        \"num_unique_values\": 2,\n        \"samples\": [\n          0,\n          1\n        ],\n        \"semantic_type\": \"\",\n        \"description\": \"\"\n      }\n    },\n    {\n      \"column\": \"impluse\",\n      \"properties\": {\n        \"dtype\": \"number\",\n        \"std\": 51,\n        \"min\": 20,\n        \"max\": 1111,\n        \"num_unique_values\": 79,\n        \"samples\": [\n          59,\n          66\n        ],\n        \"semantic_type\": \"\",\n        \"description\": \"\"\n      }\n    },\n    {\n      \"column\": \"pressurehight\",\n      \"properties\": {\n        \"dtype\": \"number\",\n        \"std\": 26,\n        \"min\": 42,\n        \"max\": 223,\n        \"num_unique_values\": 116,\n        \"samples\": [\n          93,\n          179\n        ],\n        \"semantic_type\": \"\",\n        \"description\": \"\"\n      }\n    },\n    {\n      \"column\": \"pressurelow\",\n      \"properties\": {\n        \"dtype\": \"number\",\n        \"std\": 14,\n        \"min\": 38,\n        \"max\": 154,\n        \"num_unique_values\": 73,\n        \"samples\": [\n          65,\n          41\n        ],\n        \"semantic_type\": \"\",\n        \"description\": \"\"\n      }\n    },\n    {\n      \"column\": \"glucose\",\n      \"properties\": {\n        \"dtype\": \"number\",\n        \"std\": 74.92304465780165,\n        \"min\": 35.0,\n        \"max\": 541.0,\n        \"num_unique_values\": 244,\n        \"samples\": [\n          166.0,\n          135.0\n        ],\n        \"semantic_type\": \"\",\n        \"description\": \"\"\n      }\n    },\n    {\n      \"column\": \"kcm\",\n      \"properties\": {\n        \"dtype\": \"number\",\n        \"std\": 46.32708334398736,\n        \"min\": 0.321,\n        \"max\": 300.0,\n        \"num_unique_values\": 700,\n        \"samples\": [\n          286.9,\n          0.457\n        ],\n        \"semantic_type\": \"\",\n        \"description\": \"\"\n      }\n    },\n    {\n      \"column\": \"troponin\",\n      \"properties\": {\n        \"dtype\": \"number\",\n        \"std\": 1.1545676649221812,\n        \"min\": 0.001,\n        \"max\": 10.3,\n        \"num_unique_values\": 352,\n        \"samples\": [\n          1.44,\n          0.431\n        ],\n        \"semantic_type\": \"\",\n        \"description\": \"\"\n      }\n    },\n    {\n      \"column\": \"class\",\n      \"properties\": {\n        \"dtype\": \"category\",\n        \"num_unique_values\": 2,\n        \"samples\": [\n          \"positive\",\n          \"negative\"\n        ],\n        \"semantic_type\": \"\",\n        \"description\": \"\"\n      }\n    }\n  ]\n}"
            }
          },
          "metadata": {},
          "execution_count": 53
        }
      ]
    },
    {
      "cell_type": "code",
      "source": [
        "df['class'].value_counts()"
      ],
      "metadata": {
        "colab": {
          "base_uri": "https://localhost:8080/"
        },
        "id": "ihQY6wVE8kGC",
        "outputId": "91bb4c6f-e0f9-4a2a-8202-8e8b934e5aa2"
      },
      "execution_count": null,
      "outputs": [
        {
          "output_type": "execute_result",
          "data": {
            "text/plain": [
              "class\n",
              "positive    810\n",
              "negative    509\n",
              "Name: count, dtype: int64"
            ]
          },
          "metadata": {},
          "execution_count": 54
        }
      ]
    },
    {
      "cell_type": "code",
      "source": [
        "from sklearn.preprocessing import LabelEncoder\n",
        "le= LabelEncoder()\n",
        "df[\"class\"]=le.fit_transform(df[\"class\"])"
      ],
      "metadata": {
        "id": "bCBhAEuf8s7C"
      },
      "execution_count": null,
      "outputs": []
    },
    {
      "cell_type": "code",
      "source": [
        "df.head()"
      ],
      "metadata": {
        "colab": {
          "base_uri": "https://localhost:8080/",
          "height": 206
        },
        "id": "NRtNM1AG85x0",
        "outputId": "6a56f420-3732-41ba-dbc2-6f5d77b7c39c"
      },
      "execution_count": null,
      "outputs": [
        {
          "output_type": "execute_result",
          "data": {
            "text/plain": [
              "   age  gender  impluse  pressurehight  pressurelow  glucose    kcm  troponin  \\\n",
              "0   64       1       66            160           83    160.0   1.80     0.012   \n",
              "1   21       1       94             98           46    296.0   6.75     1.060   \n",
              "2   55       1       64            160           77    270.0   1.99     0.003   \n",
              "3   64       1       70            120           55    270.0  13.87     0.122   \n",
              "4   55       1       64            112           65    300.0   1.08     0.003   \n",
              "\n",
              "   class  \n",
              "0      0  \n",
              "1      1  \n",
              "2      0  \n",
              "3      1  \n",
              "4      0  "
            ],
            "text/html": [
              "\n",
              "  <div id=\"df-045de081-c76e-4a89-b4a0-8a26d5febb94\" class=\"colab-df-container\">\n",
              "    <div>\n",
              "<style scoped>\n",
              "    .dataframe tbody tr th:only-of-type {\n",
              "        vertical-align: middle;\n",
              "    }\n",
              "\n",
              "    .dataframe tbody tr th {\n",
              "        vertical-align: top;\n",
              "    }\n",
              "\n",
              "    .dataframe thead th {\n",
              "        text-align: right;\n",
              "    }\n",
              "</style>\n",
              "<table border=\"1\" class=\"dataframe\">\n",
              "  <thead>\n",
              "    <tr style=\"text-align: right;\">\n",
              "      <th></th>\n",
              "      <th>age</th>\n",
              "      <th>gender</th>\n",
              "      <th>impluse</th>\n",
              "      <th>pressurehight</th>\n",
              "      <th>pressurelow</th>\n",
              "      <th>glucose</th>\n",
              "      <th>kcm</th>\n",
              "      <th>troponin</th>\n",
              "      <th>class</th>\n",
              "    </tr>\n",
              "  </thead>\n",
              "  <tbody>\n",
              "    <tr>\n",
              "      <th>0</th>\n",
              "      <td>64</td>\n",
              "      <td>1</td>\n",
              "      <td>66</td>\n",
              "      <td>160</td>\n",
              "      <td>83</td>\n",
              "      <td>160.0</td>\n",
              "      <td>1.80</td>\n",
              "      <td>0.012</td>\n",
              "      <td>0</td>\n",
              "    </tr>\n",
              "    <tr>\n",
              "      <th>1</th>\n",
              "      <td>21</td>\n",
              "      <td>1</td>\n",
              "      <td>94</td>\n",
              "      <td>98</td>\n",
              "      <td>46</td>\n",
              "      <td>296.0</td>\n",
              "      <td>6.75</td>\n",
              "      <td>1.060</td>\n",
              "      <td>1</td>\n",
              "    </tr>\n",
              "    <tr>\n",
              "      <th>2</th>\n",
              "      <td>55</td>\n",
              "      <td>1</td>\n",
              "      <td>64</td>\n",
              "      <td>160</td>\n",
              "      <td>77</td>\n",
              "      <td>270.0</td>\n",
              "      <td>1.99</td>\n",
              "      <td>0.003</td>\n",
              "      <td>0</td>\n",
              "    </tr>\n",
              "    <tr>\n",
              "      <th>3</th>\n",
              "      <td>64</td>\n",
              "      <td>1</td>\n",
              "      <td>70</td>\n",
              "      <td>120</td>\n",
              "      <td>55</td>\n",
              "      <td>270.0</td>\n",
              "      <td>13.87</td>\n",
              "      <td>0.122</td>\n",
              "      <td>1</td>\n",
              "    </tr>\n",
              "    <tr>\n",
              "      <th>4</th>\n",
              "      <td>55</td>\n",
              "      <td>1</td>\n",
              "      <td>64</td>\n",
              "      <td>112</td>\n",
              "      <td>65</td>\n",
              "      <td>300.0</td>\n",
              "      <td>1.08</td>\n",
              "      <td>0.003</td>\n",
              "      <td>0</td>\n",
              "    </tr>\n",
              "  </tbody>\n",
              "</table>\n",
              "</div>\n",
              "    <div class=\"colab-df-buttons\">\n",
              "\n",
              "  <div class=\"colab-df-container\">\n",
              "    <button class=\"colab-df-convert\" onclick=\"convertToInteractive('df-045de081-c76e-4a89-b4a0-8a26d5febb94')\"\n",
              "            title=\"Convert this dataframe to an interactive table.\"\n",
              "            style=\"display:none;\">\n",
              "\n",
              "  <svg xmlns=\"http://www.w3.org/2000/svg\" height=\"24px\" viewBox=\"0 -960 960 960\">\n",
              "    <path d=\"M120-120v-720h720v720H120Zm60-500h600v-160H180v160Zm220 220h160v-160H400v160Zm0 220h160v-160H400v160ZM180-400h160v-160H180v160Zm440 0h160v-160H620v160ZM180-180h160v-160H180v160Zm440 0h160v-160H620v160Z\"/>\n",
              "  </svg>\n",
              "    </button>\n",
              "\n",
              "  <style>\n",
              "    .colab-df-container {\n",
              "      display:flex;\n",
              "      gap: 12px;\n",
              "    }\n",
              "\n",
              "    .colab-df-convert {\n",
              "      background-color: #E8F0FE;\n",
              "      border: none;\n",
              "      border-radius: 50%;\n",
              "      cursor: pointer;\n",
              "      display: none;\n",
              "      fill: #1967D2;\n",
              "      height: 32px;\n",
              "      padding: 0 0 0 0;\n",
              "      width: 32px;\n",
              "    }\n",
              "\n",
              "    .colab-df-convert:hover {\n",
              "      background-color: #E2EBFA;\n",
              "      box-shadow: 0px 1px 2px rgba(60, 64, 67, 0.3), 0px 1px 3px 1px rgba(60, 64, 67, 0.15);\n",
              "      fill: #174EA6;\n",
              "    }\n",
              "\n",
              "    .colab-df-buttons div {\n",
              "      margin-bottom: 4px;\n",
              "    }\n",
              "\n",
              "    [theme=dark] .colab-df-convert {\n",
              "      background-color: #3B4455;\n",
              "      fill: #D2E3FC;\n",
              "    }\n",
              "\n",
              "    [theme=dark] .colab-df-convert:hover {\n",
              "      background-color: #434B5C;\n",
              "      box-shadow: 0px 1px 3px 1px rgba(0, 0, 0, 0.15);\n",
              "      filter: drop-shadow(0px 1px 2px rgba(0, 0, 0, 0.3));\n",
              "      fill: #FFFFFF;\n",
              "    }\n",
              "  </style>\n",
              "\n",
              "    <script>\n",
              "      const buttonEl =\n",
              "        document.querySelector('#df-045de081-c76e-4a89-b4a0-8a26d5febb94 button.colab-df-convert');\n",
              "      buttonEl.style.display =\n",
              "        google.colab.kernel.accessAllowed ? 'block' : 'none';\n",
              "\n",
              "      async function convertToInteractive(key) {\n",
              "        const element = document.querySelector('#df-045de081-c76e-4a89-b4a0-8a26d5febb94');\n",
              "        const dataTable =\n",
              "          await google.colab.kernel.invokeFunction('convertToInteractive',\n",
              "                                                    [key], {});\n",
              "        if (!dataTable) return;\n",
              "\n",
              "        const docLinkHtml = 'Like what you see? Visit the ' +\n",
              "          '<a target=\"_blank\" href=https://colab.research.google.com/notebooks/data_table.ipynb>data table notebook</a>'\n",
              "          + ' to learn more about interactive tables.';\n",
              "        element.innerHTML = '';\n",
              "        dataTable['output_type'] = 'display_data';\n",
              "        await google.colab.output.renderOutput(dataTable, element);\n",
              "        const docLink = document.createElement('div');\n",
              "        docLink.innerHTML = docLinkHtml;\n",
              "        element.appendChild(docLink);\n",
              "      }\n",
              "    </script>\n",
              "  </div>\n",
              "\n",
              "\n",
              "<div id=\"df-8d52ae2a-8649-4a6d-be1c-af3e60cfd422\">\n",
              "  <button class=\"colab-df-quickchart\" onclick=\"quickchart('df-8d52ae2a-8649-4a6d-be1c-af3e60cfd422')\"\n",
              "            title=\"Suggest charts\"\n",
              "            style=\"display:none;\">\n",
              "\n",
              "<svg xmlns=\"http://www.w3.org/2000/svg\" height=\"24px\"viewBox=\"0 0 24 24\"\n",
              "     width=\"24px\">\n",
              "    <g>\n",
              "        <path d=\"M19 3H5c-1.1 0-2 .9-2 2v14c0 1.1.9 2 2 2h14c1.1 0 2-.9 2-2V5c0-1.1-.9-2-2-2zM9 17H7v-7h2v7zm4 0h-2V7h2v10zm4 0h-2v-4h2v4z\"/>\n",
              "    </g>\n",
              "</svg>\n",
              "  </button>\n",
              "\n",
              "<style>\n",
              "  .colab-df-quickchart {\n",
              "      --bg-color: #E8F0FE;\n",
              "      --fill-color: #1967D2;\n",
              "      --hover-bg-color: #E2EBFA;\n",
              "      --hover-fill-color: #174EA6;\n",
              "      --disabled-fill-color: #AAA;\n",
              "      --disabled-bg-color: #DDD;\n",
              "  }\n",
              "\n",
              "  [theme=dark] .colab-df-quickchart {\n",
              "      --bg-color: #3B4455;\n",
              "      --fill-color: #D2E3FC;\n",
              "      --hover-bg-color: #434B5C;\n",
              "      --hover-fill-color: #FFFFFF;\n",
              "      --disabled-bg-color: #3B4455;\n",
              "      --disabled-fill-color: #666;\n",
              "  }\n",
              "\n",
              "  .colab-df-quickchart {\n",
              "    background-color: var(--bg-color);\n",
              "    border: none;\n",
              "    border-radius: 50%;\n",
              "    cursor: pointer;\n",
              "    display: none;\n",
              "    fill: var(--fill-color);\n",
              "    height: 32px;\n",
              "    padding: 0;\n",
              "    width: 32px;\n",
              "  }\n",
              "\n",
              "  .colab-df-quickchart:hover {\n",
              "    background-color: var(--hover-bg-color);\n",
              "    box-shadow: 0 1px 2px rgba(60, 64, 67, 0.3), 0 1px 3px 1px rgba(60, 64, 67, 0.15);\n",
              "    fill: var(--button-hover-fill-color);\n",
              "  }\n",
              "\n",
              "  .colab-df-quickchart-complete:disabled,\n",
              "  .colab-df-quickchart-complete:disabled:hover {\n",
              "    background-color: var(--disabled-bg-color);\n",
              "    fill: var(--disabled-fill-color);\n",
              "    box-shadow: none;\n",
              "  }\n",
              "\n",
              "  .colab-df-spinner {\n",
              "    border: 2px solid var(--fill-color);\n",
              "    border-color: transparent;\n",
              "    border-bottom-color: var(--fill-color);\n",
              "    animation:\n",
              "      spin 1s steps(1) infinite;\n",
              "  }\n",
              "\n",
              "  @keyframes spin {\n",
              "    0% {\n",
              "      border-color: transparent;\n",
              "      border-bottom-color: var(--fill-color);\n",
              "      border-left-color: var(--fill-color);\n",
              "    }\n",
              "    20% {\n",
              "      border-color: transparent;\n",
              "      border-left-color: var(--fill-color);\n",
              "      border-top-color: var(--fill-color);\n",
              "    }\n",
              "    30% {\n",
              "      border-color: transparent;\n",
              "      border-left-color: var(--fill-color);\n",
              "      border-top-color: var(--fill-color);\n",
              "      border-right-color: var(--fill-color);\n",
              "    }\n",
              "    40% {\n",
              "      border-color: transparent;\n",
              "      border-right-color: var(--fill-color);\n",
              "      border-top-color: var(--fill-color);\n",
              "    }\n",
              "    60% {\n",
              "      border-color: transparent;\n",
              "      border-right-color: var(--fill-color);\n",
              "    }\n",
              "    80% {\n",
              "      border-color: transparent;\n",
              "      border-right-color: var(--fill-color);\n",
              "      border-bottom-color: var(--fill-color);\n",
              "    }\n",
              "    90% {\n",
              "      border-color: transparent;\n",
              "      border-bottom-color: var(--fill-color);\n",
              "    }\n",
              "  }\n",
              "</style>\n",
              "\n",
              "  <script>\n",
              "    async function quickchart(key) {\n",
              "      const quickchartButtonEl =\n",
              "        document.querySelector('#' + key + ' button');\n",
              "      quickchartButtonEl.disabled = true;  // To prevent multiple clicks.\n",
              "      quickchartButtonEl.classList.add('colab-df-spinner');\n",
              "      try {\n",
              "        const charts = await google.colab.kernel.invokeFunction(\n",
              "            'suggestCharts', [key], {});\n",
              "      } catch (error) {\n",
              "        console.error('Error during call to suggestCharts:', error);\n",
              "      }\n",
              "      quickchartButtonEl.classList.remove('colab-df-spinner');\n",
              "      quickchartButtonEl.classList.add('colab-df-quickchart-complete');\n",
              "    }\n",
              "    (() => {\n",
              "      let quickchartButtonEl =\n",
              "        document.querySelector('#df-8d52ae2a-8649-4a6d-be1c-af3e60cfd422 button');\n",
              "      quickchartButtonEl.style.display =\n",
              "        google.colab.kernel.accessAllowed ? 'block' : 'none';\n",
              "    })();\n",
              "  </script>\n",
              "</div>\n",
              "\n",
              "    </div>\n",
              "  </div>\n"
            ],
            "application/vnd.google.colaboratory.intrinsic+json": {
              "type": "dataframe",
              "variable_name": "df",
              "summary": "{\n  \"name\": \"df\",\n  \"rows\": 1319,\n  \"fields\": [\n    {\n      \"column\": \"age\",\n      \"properties\": {\n        \"dtype\": \"number\",\n        \"std\": 13,\n        \"min\": 14,\n        \"max\": 103,\n        \"num_unique_values\": 75,\n        \"samples\": [\n          32,\n          81,\n          61\n        ],\n        \"semantic_type\": \"\",\n        \"description\": \"\"\n      }\n    },\n    {\n      \"column\": \"gender\",\n      \"properties\": {\n        \"dtype\": \"number\",\n        \"std\": 0,\n        \"min\": 0,\n        \"max\": 1,\n        \"num_unique_values\": 2,\n        \"samples\": [\n          0,\n          1\n        ],\n        \"semantic_type\": \"\",\n        \"description\": \"\"\n      }\n    },\n    {\n      \"column\": \"impluse\",\n      \"properties\": {\n        \"dtype\": \"number\",\n        \"std\": 51,\n        \"min\": 20,\n        \"max\": 1111,\n        \"num_unique_values\": 79,\n        \"samples\": [\n          59,\n          66\n        ],\n        \"semantic_type\": \"\",\n        \"description\": \"\"\n      }\n    },\n    {\n      \"column\": \"pressurehight\",\n      \"properties\": {\n        \"dtype\": \"number\",\n        \"std\": 26,\n        \"min\": 42,\n        \"max\": 223,\n        \"num_unique_values\": 116,\n        \"samples\": [\n          93,\n          179\n        ],\n        \"semantic_type\": \"\",\n        \"description\": \"\"\n      }\n    },\n    {\n      \"column\": \"pressurelow\",\n      \"properties\": {\n        \"dtype\": \"number\",\n        \"std\": 14,\n        \"min\": 38,\n        \"max\": 154,\n        \"num_unique_values\": 73,\n        \"samples\": [\n          65,\n          41\n        ],\n        \"semantic_type\": \"\",\n        \"description\": \"\"\n      }\n    },\n    {\n      \"column\": \"glucose\",\n      \"properties\": {\n        \"dtype\": \"number\",\n        \"std\": 74.92304465780165,\n        \"min\": 35.0,\n        \"max\": 541.0,\n        \"num_unique_values\": 244,\n        \"samples\": [\n          166.0,\n          135.0\n        ],\n        \"semantic_type\": \"\",\n        \"description\": \"\"\n      }\n    },\n    {\n      \"column\": \"kcm\",\n      \"properties\": {\n        \"dtype\": \"number\",\n        \"std\": 46.32708334398736,\n        \"min\": 0.321,\n        \"max\": 300.0,\n        \"num_unique_values\": 700,\n        \"samples\": [\n          286.9,\n          0.457\n        ],\n        \"semantic_type\": \"\",\n        \"description\": \"\"\n      }\n    },\n    {\n      \"column\": \"troponin\",\n      \"properties\": {\n        \"dtype\": \"number\",\n        \"std\": 1.1545676649221812,\n        \"min\": 0.001,\n        \"max\": 10.3,\n        \"num_unique_values\": 352,\n        \"samples\": [\n          1.44,\n          0.431\n        ],\n        \"semantic_type\": \"\",\n        \"description\": \"\"\n      }\n    },\n    {\n      \"column\": \"class\",\n      \"properties\": {\n        \"dtype\": \"number\",\n        \"std\": 0,\n        \"min\": 0,\n        \"max\": 1,\n        \"num_unique_values\": 2,\n        \"samples\": [\n          1,\n          0\n        ],\n        \"semantic_type\": \"\",\n        \"description\": \"\"\n      }\n    }\n  ]\n}"
            }
          },
          "metadata": {},
          "execution_count": 56
        }
      ]
    },
    {
      "cell_type": "code",
      "source": [
        "ind_col = [col for col in df.columns if col != 'class']\n",
        "dep_col = 'class'"
      ],
      "metadata": {
        "id": "tszO5p4I9CgR"
      },
      "execution_count": null,
      "outputs": []
    },
    {
      "cell_type": "code",
      "source": [
        "x = df[ind_col] #feature\n",
        "y = df[dep_col] #label"
      ],
      "metadata": {
        "id": "5b0o_k9s9L73"
      },
      "execution_count": null,
      "outputs": []
    },
    {
      "cell_type": "code",
      "source": [
        "x_train, x_test, y_train, y_test = train_test_split(x, y, test_size=0.3, random_state=850, stratify=y)\n",
        "\n",
        "print('train shape:', x_train.shape)\n",
        "print('test shape:', x_test.shape)"
      ],
      "metadata": {
        "colab": {
          "base_uri": "https://localhost:8080/"
        },
        "id": "6Q82qj6w9jj9",
        "outputId": "7485b074-3399-4f32-f73d-81f4c537d14a"
      },
      "execution_count": null,
      "outputs": [
        {
          "output_type": "stream",
          "name": "stdout",
          "text": [
            "train shape: (923, 8)\n",
            "test shape: (396, 8)\n"
          ]
        }
      ]
    },
    {
      "cell_type": "markdown",
      "source": [
        "# Modeling"
      ],
      "metadata": {
        "id": "kD8_TghhsM2W"
      }
    },
    {
      "cell_type": "code",
      "source": [
        "model = Sequential()\n",
        "\n",
        "model.add(Dense(8, activation='relu', input_dim=x.shape[-1]))\n",
        "model.add(Dense(16, activation='relu'))\n",
        "model.add(Dense(2, activation='softmax'))"
      ],
      "metadata": {
        "id": "kXgEh5Pt9PgV"
      },
      "execution_count": null,
      "outputs": []
    },
    {
      "cell_type": "code",
      "source": [
        "model.summary()"
      ],
      "metadata": {
        "colab": {
          "base_uri": "https://localhost:8080/"
        },
        "id": "nGg45jan9VQ9",
        "outputId": "c77f6152-ced3-4a99-801b-349d2a07acde"
      },
      "execution_count": null,
      "outputs": [
        {
          "output_type": "stream",
          "name": "stdout",
          "text": [
            "Model: \"sequential_2\"\n",
            "_________________________________________________________________\n",
            " Layer (type)                Output Shape              Param #   \n",
            "=================================================================\n",
            " dense_6 (Dense)             (None, 8)                 72        \n",
            "                                                                 \n",
            " dense_7 (Dense)             (None, 16)                144       \n",
            "                                                                 \n",
            " dense_8 (Dense)             (None, 2)                 34        \n",
            "                                                                 \n",
            "=================================================================\n",
            "Total params: 250 (1000.00 Byte)\n",
            "Trainable params: 250 (1000.00 Byte)\n",
            "Non-trainable params: 0 (0.00 Byte)\n",
            "_________________________________________________________________\n"
          ]
        }
      ]
    },
    {
      "cell_type": "code",
      "source": [
        "plot_model(model, show_shapes = True)"
      ],
      "metadata": {
        "colab": {
          "base_uri": "https://localhost:8080/",
          "height": 422
        },
        "id": "saHcsBHf9aDR",
        "outputId": "26f9afe1-7e28-4d88-c1ec-a8fa9d0b3e1c"
      },
      "execution_count": null,
      "outputs": [
        {
          "output_type": "execute_result",
          "data": {
            "image/png": "[encoded data removed]",
            "text/plain": [
              "<IPython.core.display.Image object>"
            ]
          },
          "metadata": {},
          "execution_count": 62
        }
      ]
    },
    {
      "cell_type": "code",
      "source": [
        "optim = Adam(lr=0.001)\n",
        "\n",
        "model.compile(\n",
        "    optimizer=optim,\n",
        "    loss='sparse_categorical_crossentropy',\n",
        "    metrics=['Accuracy']\n",
        "    )\n",
        "\n",
        "history = model.fit(x_train, y_train,\n",
        "                    batch_size=1,\n",
        "                    epochs=30,\n",
        "                    verbose=1,\n",
        "                    shuffle=True,\n",
        "                    validation_split=0.1)"
      ],
      "metadata": {
        "colab": {
          "base_uri": "https://localhost:8080/"
        },
        "id": "Dp0jesic9bg5",
        "outputId": "d55e1f27-9ac9-4535-c72f-060f8286a922"
      },
      "execution_count": null,
      "outputs": [
        {
          "output_type": "stream",
          "name": "stderr",
          "text": [
            "WARNING:absl:`lr` is deprecated in Keras optimizer, please use `learning_rate` or use the legacy optimizer, e.g.,tf.keras.optimizers.legacy.Adam.\n"
          ]
        },
        {
          "output_type": "stream",
          "name": "stdout",
          "text": [
            "Epoch 1/30\n",
            "830/830 [==============================] - 2s 2ms/step - loss: 1.5531 - Accuracy: 0.5964 - val_loss: 0.9169 - val_Accuracy: 0.6022\n",
            "Epoch 2/30\n",
            "830/830 [==============================] - 2s 2ms/step - loss: 0.7989 - Accuracy: 0.6470 - val_loss: 0.8079 - val_Accuracy: 0.5806\n",
            "Epoch 3/30\n",
            "830/830 [==============================] - 2s 2ms/step - loss: 0.7770 - Accuracy: 0.6783 - val_loss: 0.7199 - val_Accuracy: 0.6237\n",
            "Epoch 4/30\n",
            "830/830 [==============================] - 2s 2ms/step - loss: 0.6701 - Accuracy: 0.6771 - val_loss: 0.7554 - val_Accuracy: 0.5806\n",
            "Epoch 5/30\n",
            "830/830 [==============================] - 3s 3ms/step - loss: 0.7191 - Accuracy: 0.6446 - val_loss: 0.7106 - val_Accuracy: 0.6022\n",
            "Epoch 6/30\n",
            "830/830 [==============================] - 2s 2ms/step - loss: 0.6743 - Accuracy: 0.6928 - val_loss: 0.6571 - val_Accuracy: 0.5699\n",
            "Epoch 7/30\n",
            "830/830 [==============================] - 2s 2ms/step - loss: 0.6529 - Accuracy: 0.6976 - val_loss: 0.6628 - val_Accuracy: 0.5806\n",
            "Epoch 8/30\n",
            "830/830 [==============================] - 2s 2ms/step - loss: 0.5874 - Accuracy: 0.6880 - val_loss: 0.6275 - val_Accuracy: 0.6774\n",
            "Epoch 9/30\n",
            "830/830 [==============================] - 2s 2ms/step - loss: 0.6028 - Accuracy: 0.6880 - val_loss: 0.6944 - val_Accuracy: 0.5806\n",
            "Epoch 10/30\n",
            "830/830 [==============================] - 1s 2ms/step - loss: 0.5858 - Accuracy: 0.7012 - val_loss: 0.6310 - val_Accuracy: 0.6559\n",
            "Epoch 11/30\n",
            "830/830 [==============================] - 2s 2ms/step - loss: 0.5719 - Accuracy: 0.7048 - val_loss: 0.6220 - val_Accuracy: 0.6344\n",
            "Epoch 12/30\n",
            "830/830 [==============================] - 2s 2ms/step - loss: 0.5498 - Accuracy: 0.7036 - val_loss: 0.6445 - val_Accuracy: 0.6452\n",
            "Epoch 13/30\n",
            "830/830 [==============================] - 3s 3ms/step - loss: 0.5836 - Accuracy: 0.7024 - val_loss: 0.6423 - val_Accuracy: 0.6237\n",
            "Epoch 14/30\n",
            "830/830 [==============================] - 2s 2ms/step - loss: 0.5544 - Accuracy: 0.7108 - val_loss: 0.7734 - val_Accuracy: 0.4946\n",
            "Epoch 15/30\n",
            "830/830 [==============================] - 1s 2ms/step - loss: 0.5450 - Accuracy: 0.7060 - val_loss: 0.6071 - val_Accuracy: 0.6774\n",
            "Epoch 16/30\n",
            "830/830 [==============================] - 1s 2ms/step - loss: 0.5433 - Accuracy: 0.7289 - val_loss: 0.6339 - val_Accuracy: 0.6559\n",
            "Epoch 17/30\n",
            "830/830 [==============================] - 2s 2ms/step - loss: 0.5482 - Accuracy: 0.7169 - val_loss: 0.6199 - val_Accuracy: 0.6237\n",
            "Epoch 18/30\n",
            "830/830 [==============================] - 2s 2ms/step - loss: 0.5151 - Accuracy: 0.7205 - val_loss: 0.5872 - val_Accuracy: 0.6774\n",
            "Epoch 19/30\n",
            "830/830 [==============================] - 2s 2ms/step - loss: 0.5154 - Accuracy: 0.7265 - val_loss: 0.6150 - val_Accuracy: 0.6452\n",
            "Epoch 20/30\n",
            "830/830 [==============================] - 2s 3ms/step - loss: 0.5215 - Accuracy: 0.7241 - val_loss: 0.5762 - val_Accuracy: 0.7312\n",
            "Epoch 21/30\n",
            "830/830 [==============================] - 2s 3ms/step - loss: 0.5420 - Accuracy: 0.7145 - val_loss: 0.7367 - val_Accuracy: 0.5484\n",
            "Epoch 22/30\n",
            "830/830 [==============================] - 2s 2ms/step - loss: 0.5174 - Accuracy: 0.7386 - val_loss: 0.6196 - val_Accuracy: 0.6452\n",
            "Epoch 23/30\n",
            "830/830 [==============================] - 2s 2ms/step - loss: 0.5254 - Accuracy: 0.7277 - val_loss: 0.5747 - val_Accuracy: 0.7097\n",
            "Epoch 24/30\n",
            "830/830 [==============================] - 2s 2ms/step - loss: 0.5139 - Accuracy: 0.7410 - val_loss: 0.5920 - val_Accuracy: 0.6882\n",
            "Epoch 25/30\n",
            "830/830 [==============================] - 2s 2ms/step - loss: 0.4997 - Accuracy: 0.7422 - val_loss: 0.6250 - val_Accuracy: 0.6559\n",
            "Epoch 26/30\n",
            "830/830 [==============================] - 2s 2ms/step - loss: 0.5022 - Accuracy: 0.7361 - val_loss: 0.5880 - val_Accuracy: 0.6559\n",
            "Epoch 27/30\n",
            "830/830 [==============================] - 2s 2ms/step - loss: 0.4999 - Accuracy: 0.7422 - val_loss: 0.6848 - val_Accuracy: 0.5914\n",
            "Epoch 28/30\n",
            "830/830 [==============================] - 2s 3ms/step - loss: 0.5023 - Accuracy: 0.7482 - val_loss: 0.5601 - val_Accuracy: 0.7204\n",
            "Epoch 29/30\n",
            "830/830 [==============================] - 2s 3ms/step - loss: 0.4998 - Accuracy: 0.7494 - val_loss: 0.5558 - val_Accuracy: 0.7312\n",
            "Epoch 30/30\n",
            "830/830 [==============================] - 2s 2ms/step - loss: 0.4909 - Accuracy: 0.7590 - val_loss: 0.5572 - val_Accuracy: 0.7312\n"
          ]
        }
      ]
    },
    {
      "cell_type": "code",
      "source": [
        "from sklearn.metrics import accuracy_score\n",
        "pred = np.argmax(model.predict(x_test), axis=1)\n",
        "print(accuracy_score(y_test, pred))"
      ],
      "metadata": {
        "colab": {
          "base_uri": "https://localhost:8080/"
        },
        "id": "owmaO_fu9uIa",
        "outputId": "554ffd88-e07e-4228-95aa-6867f6318cc9"
      },
      "execution_count": null,
      "outputs": [
        {
          "output_type": "stream",
          "name": "stdout",
          "text": [
            "13/13 [==============================] - 0s 2ms/step\n",
            "0.75\n"
          ]
        }
      ]
    },
    {
      "cell_type": "markdown",
      "source": [
        "# Simulasi Model"
      ],
      "metadata": {
        "id": "I3IOirOQsS3h"
      }
    },
    {
      "cell_type": "code",
      "source": [
        "prediction = model.predict([[54,\t1,\t89,\t126,\t64,\t153.0,\t8.32,\t0.009]])\n",
        "\n",
        "predicted_class = np.argmax(prediction, axis=-1)\n",
        "\n",
        "if predicted_class == 1:\n",
        "  print(\"Positive\")\n",
        "else:\n",
        "  print(\"Negative\")"
      ],
      "metadata": {
        "colab": {
          "base_uri": "https://localhost:8080/"
        },
        "id": "fCpiHxtE9_Pk",
        "outputId": "97f5da7e-9a5e-4b06-bb17-d17c10363658"
      },
      "execution_count": null,
      "outputs": [
        {
          "output_type": "stream",
          "name": "stdout",
          "text": [
            "1/1 [==============================] - 0s 77ms/step\n",
            "Positive\n"
          ]
        }
      ]
    },
    {
      "cell_type": "code",
      "source": [
        "prediction = model.predict([[29,\t1,\t88,\t155,\t85,\t107.0,\t5.51,\t0.003]])\n",
        "\n",
        "predicted_class = np.argmax(prediction, axis=-1)\n",
        "\n",
        "if predicted_class == 1:\n",
        "  print(\"Positive\")\n",
        "else:\n",
        "  print(\"Negative\")"
      ],
      "metadata": {
        "colab": {
          "base_uri": "https://localhost:8080/"
        },
        "id": "mXSSl0Nw_jmG",
        "outputId": "ee72ce1b-eba5-469a-e17a-9920b6718500"
      },
      "execution_count": null,
      "outputs": [
        {
          "output_type": "stream",
          "name": "stdout",
          "text": [
            "1/1 [==============================] - 0s 40ms/step\n",
            "Negative\n"
          ]
        }
      ]
    },
    {
      "cell_type": "markdown",
      "source": [
        "# Save Model"
      ],
      "metadata": {
        "id": "WcTt5kG9sWHd"
      }
    },
    {
      "cell_type": "code",
      "source": [
        "model.save('./heartattack.h5')"
      ],
      "metadata": {
        "colab": {
          "base_uri": "https://localhost:8080/"
        },
        "id": "eBHULVp5p7tM",
        "outputId": "a33f8820-ac1c-4d67-e3d2-6958f03efc4d"
      },
      "execution_count": null,
      "outputs": [
        {
          "output_type": "stream",
          "name": "stderr",
          "text": [
            "/usr/local/lib/python3.10/dist-packages/keras/src/engine/training.py:3103: UserWarning: You are saving your model as an HDF5 file via `model.save()`. This file format is considered legacy. We recommend using instead the native Keras format, e.g. `model.save('my_model.keras')`.\n",
            "  saving_api.save_model(\n"
          ]
        }
      ]
    },
    {
      "cell_type": "code",
      "source": [
        "model = tf.keras.models.load_model('./heartattack.h5')\n",
        "converter =tf.lite.TFLiteConverter.from_keras_model(model)\n",
        "converter.optimizations = [tf.lite.Optimize.DEFAULT]\n",
        "tflite_model = converter.convert()\n",
        "open(\"./heartattack.tflite\", \"wb\").write(tflite_model)"
      ],
      "metadata": {
        "colab": {
          "base_uri": "https://localhost:8080/"
        },
        "id": "8MzJAI3frk4v",
        "outputId": "3e0fbfae-a783-4f14-e9c0-e2f8f0f379b9"
      },
      "execution_count": null,
      "outputs": [
        {
          "output_type": "execute_result",
          "data": {
            "text/plain": [
              "3128"
            ]
          },
          "metadata": {},
          "execution_count": 69
        }
      ]
    }
  ]
}